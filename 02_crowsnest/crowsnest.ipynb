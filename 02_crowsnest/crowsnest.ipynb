{
 "cells": [
  {
   "cell_type": "markdown",
   "id": "a30edfed-8821-4225-8844-a1c6b0aef274",
   "metadata": {
    "tags": []
   },
   "source": [
    "# ___Tiny Python Projects___\n",
    "### ___by Ken Youens-Clark___\n",
    "\n",
    "#### ___CHAPTER 2:___ The crow's nest: Working with Strings\n",
    "#### ___PROGRAM: Crowsnest___\n",
    "#### ___PURPOSE:___ Take a word a positional argument and adjust output string depending on word used\n",
    "\n",
    "#### ___AUTHOR: Steven Partlow <profsfrink@gmail.com>___\n",
    "\n",
    "This notebook is to store the code-related notes taken during working through 'Chapter 2: The Crow's Nest: Working with strings' of the book 'Tiny Python Projects'."
   ]
  },
  {
   "cell_type": "code",
   "execution_count": 1,
   "id": "49aa6d58-ad1a-4de7-b4a2-772bf0a9df13",
   "metadata": {
    "tags": []
   },
   "outputs": [],
   "source": [
    "word = 'OCTOPUS' # Set string word to this value\n",
    "article = '' # Set string article to an empty value"
   ]
  },
  {
   "cell_type": "code",
   "execution_count": 2,
   "id": "036f2aca-7eee-4257-89cf-337751f60f86",
   "metadata": {
    "tags": []
   },
   "outputs": [
    {
     "data": {
      "text/plain": [
       "'Ahoy, Captain,  OCTOPUS off the larboard bow!'"
      ]
     },
     "execution_count": 2,
     "metadata": {},
     "output_type": "execute_result"
    }
   ],
   "source": [
    "f'Ahoy, Captain, {article} {word} off the larboard bow!'"
   ]
  },
  {
   "cell_type": "code",
   "execution_count": 3,
   "id": "aeee998f-98b7-4846-b70f-44535fb506ac",
   "metadata": {
    "tags": []
   },
   "outputs": [],
   "source": [
    "if word[0].lower() in 'aeiou':\n",
    "    article = 'an'\n",
    "else:\n",
    "    article = 'a'"
   ]
  },
  {
   "cell_type": "code",
   "execution_count": 6,
   "id": "b290184c-f813-41e8-a06f-8f7bd20b5ac0",
   "metadata": {
    "tags": []
   },
   "outputs": [
    {
     "data": {
      "text/plain": [
       "'Ahoy, Captain, an octopus off the larboard bow!'"
      ]
     },
     "execution_count": 6,
     "metadata": {},
     "output_type": "execute_result"
    }
   ],
   "source": [
    "f'Ahoy, Captain, {article} {word.lower()} off the larboard bow!'"
   ]
  },
  {
   "cell_type": "code",
   "execution_count": null,
   "id": "3f7a3ae5-e09d-4027-95f7-68d269c4bf42",
   "metadata": {},
   "outputs": [],
   "source": []
  }
 ],
 "metadata": {
  "kernelspec": {
   "display_name": "Python 3 (ipykernel)",
   "language": "python",
   "name": "python3"
  },
  "language_info": {
   "codemirror_mode": {
    "name": "ipython",
    "version": 3
   },
   "file_extension": ".py",
   "mimetype": "text/x-python",
   "name": "python",
   "nbconvert_exporter": "python",
   "pygments_lexer": "ipython3",
   "version": "3.9.16"
  }
 },
 "nbformat": 4,
 "nbformat_minor": 5
}
